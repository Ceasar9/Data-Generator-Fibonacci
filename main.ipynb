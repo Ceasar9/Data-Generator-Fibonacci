{
 "cells": [
  {
   "cell_type": "code",
   "execution_count": 1,
   "metadata": {},
   "outputs": [],
   "source": [
    "from generator.generator_fibonacci import generator_fibonacci"
   ]
  },
  {
   "cell_type": "code",
   "execution_count": 2,
   "metadata": {},
   "outputs": [],
   "source": [
    "first_n_element = 20\n",
    "    # user_input = None\n",
    "user_input = input(\"please Enter a number to get the first N elements in fibonacci serie (if not entered max first 20 will be generated):\")\n",
    " "
   ]
  },
  {
   "cell_type": "code",
   "execution_count": 3,
   "metadata": {},
   "outputs": [
    {
     "name": "stdout",
     "output_type": "stream",
     "text": [
      "10\n"
     ]
    }
   ],
   "source": [
    "try:  \n",
    "    first_n_element = int(user_input)\n",
    "    print(first_n_element)\n",
    "except:\n",
    "    print(f\"ERROR: user input '{user_input}' is not integer... set to default (20).\")\n",
    "    print(first_n_element)\n"
   ]
  },
  {
   "cell_type": "code",
   "execution_count": 4,
   "metadata": {},
   "outputs": [
    {
     "name": "stdout",
     "output_type": "stream",
     "text": [
      "Fibonacci Element-1: 1\n",
      "Fibonacci Element-2: 1\n",
      "Fibonacci Element-3: 2\n",
      "Fibonacci Element-4: 3\n",
      "Fibonacci Element-5: 5\n",
      "Fibonacci Element-6: 8\n",
      "Fibonacci Element-7: 13\n",
      "Fibonacci Element-8: 21\n",
      "Fibonacci Element-9: 34\n",
      "Fibonacci Element-10: 55\n"
     ]
    }
   ],
   "source": [
    "for i, element in enumerate(generator_fibonacci(first_n_element)):\n",
    "    print(f\"Fibonacci Element-{i+1}: {element}\")"
   ]
  },
  {
   "cell_type": "code",
   "execution_count": null,
   "metadata": {},
   "outputs": [],
   "source": []
  }
 ],
 "metadata": {
  "kernelspec": {
   "display_name": "vevn",
   "language": "python",
   "name": "python3"
  },
  "language_info": {
   "codemirror_mode": {
    "name": "ipython",
    "version": 3
   },
   "file_extension": ".py",
   "mimetype": "text/x-python",
   "name": "python",
   "nbconvert_exporter": "python",
   "pygments_lexer": "ipython3",
   "version": "3.12.3"
  }
 },
 "nbformat": 4,
 "nbformat_minor": 2
}
